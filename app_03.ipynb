{
 "cells": [
  {
   "cell_type": "code",
   "execution_count": 1,
   "metadata": {},
   "outputs": [],
   "source": [
    "from dotenv import load_dotenv\n",
    "import os\n",
    "\n",
    "load_dotenv(verbose=True)\n",
    "key = os.getenv('OPENAI_API_KEY')"
   ]
  },
  {
   "cell_type": "code",
   "execution_count": 2,
   "metadata": {},
   "outputs": [
    {
     "name": "stdout",
     "output_type": "stream",
     "text": [
      "LangSmith 추적을 시작합니다.\n",
      "[프로젝트명]\n",
      "app_03\n"
     ]
    }
   ],
   "source": [
    "from langchain_teddynote import logging\n",
    "\n",
    "logging.langsmith('app_03')\n",
    "# logging.langsmith('app_03', set_enable=False)"
   ]
  },
  {
   "cell_type": "markdown",
   "metadata": {},
   "source": [
    "<br>"
   ]
  },
  {
   "cell_type": "markdown",
   "metadata": {},
   "source": [
    "# <b>CHAPTER 03 LCEL</b>"
   ]
  },
  {
   "cell_type": "markdown",
   "metadata": {},
   "source": [
    "<br>"
   ]
  },
  {
   "cell_type": "markdown",
   "metadata": {},
   "source": [
    "# <b>1. LangChain Expression Language(LCEL)</b>"
   ]
  },
  {
   "cell_type": "markdown",
   "metadata": {},
   "source": [
    "<br>"
   ]
  },
  {
   "cell_type": "markdown",
   "metadata": {},
   "source": [
    "### LCEL"
   ]
  },
  {
   "cell_type": "code",
   "execution_count": 3,
   "metadata": {},
   "outputs": [
    {
     "name": "stdout",
     "output_type": "stream",
     "text": [
      "겔럭시폰은 삼성전자(Samsung Electronics)에서 개발한 스마트폰 브랜드입니다. 삼성전자는 다양한 모델의 겔럭시폰을 출시하고 있으며, 이 제품들은 안드로이드 운영체제를 기반으로 하고 있습니다.\n"
     ]
    }
   ],
   "source": [
    "from dotenv import load_dotenv\n",
    "import os\n",
    "\n",
    "load_dotenv(verbose=True)\n",
    "key = os.getenv('OPENAI_API_KEY')\n",
    "\n",
    "from langchain_openai import ChatOpenAI\n",
    "from langchain_core.prompts import PromptTemplate\n",
    "\n",
    "llm = ChatOpenAI(\n",
    "    api_key=key, \n",
    "    model_name='gpt-4o-mini',\n",
    "    temperature=0.1,\n",
    "    max_tokens=2048,\n",
    ")\n",
    "\n",
    "# prompt를 PromptTemplate 객체로 생성합니다.\n",
    "prompt = PromptTemplate.from_template(\"{pruduct}는 어느 회사에서 개발한 제품인가요?\")\n",
    "\n",
    "# LCEL을 사용하여 다양한 구성 요소를 단일 체인으로 결합합니다. prompt와 llm(모델)을 결합.\n",
    "# 이 체인에서 사용자 입력은 프롬프트 템플릿으로 전달되고, \n",
    "# 그런 다음 프롬프트 템플릿 출력은 모델로 전달됩니다. \n",
    "chain = prompt | llm\n",
    "\n",
    "# 파이썬 딕셔너리 형태로 입력값을 전달합니다. (키: 값)\n",
    "# invoke() 함수 호출 시, 입력값을 전달합니다.\n",
    "answer = chain.invoke({'pruduct': '겔럭시폰'})\n",
    "print(answer.content)"
   ]
  },
  {
   "cell_type": "markdown",
   "metadata": {},
   "source": [
    "<br>"
   ]
  },
  {
   "cell_type": "markdown",
   "metadata": {},
   "source": [
    "# <b>2. 출력 파서(Output Parser)</b>"
   ]
  },
  {
   "cell_type": "markdown",
   "metadata": {},
   "source": [
    "<br>"
   ]
  },
  {
   "cell_type": "markdown",
   "metadata": {},
   "source": [
    "### LangChain의 출력 파서는 언어 모델(LLM)의 출력을 더 유용하고 구조화된 형태로 변환하는 중요한 컴포넌트입니다.\n",
    "### 실행결과를 문자열 형태로 출력합니다.\n",
    "<br>"
   ]
  },
  {
   "cell_type": "markdown",
   "metadata": {},
   "source": [
    "### 출력 파서"
   ]
  },
  {
   "cell_type": "code",
   "execution_count": 4,
   "metadata": {},
   "outputs": [
    {
     "name": "stdout",
     "output_type": "stream",
     "text": [
      "겔럭시폰은 삼성전자(Samsung Electronics)에서 개발한 스마트폰 브랜드입니다. 삼성전자는 다양한 모델의 겔럭시폰을 출시하고 있으며, 이들 제품은 안드로이드 운영체제를 기반으로 하고 있습니다.\n"
     ]
    }
   ],
   "source": [
    "from dotenv import load_dotenv\n",
    "import os\n",
    "\n",
    "load_dotenv(verbose=True)\n",
    "key = os.getenv('OPENAI_API_KEY')\n",
    "\n",
    "from langchain_openai import ChatOpenAI\n",
    "from langchain_core.prompts import PromptTemplate\n",
    "from langchain_core.output_parsers import StrOutputParser\n",
    "\n",
    "llm = ChatOpenAI(\n",
    "    api_key=key, \n",
    "    model_name='gpt-4o-mini',\n",
    "    temperature=0.1,\n",
    "    max_tokens=2048,\n",
    ")\n",
    "\n",
    "prompt = PromptTemplate.from_template(\"{pruduct}는 어느 회사에서 개발한 제품인가요?\")\n",
    "output_parser = StrOutputParser()\n",
    "chain = prompt | llm | output_parser\n",
    "\n",
    "answer = chain.invoke({'pruduct': '겔럭시폰'})\n",
    "print(answer)"
   ]
  },
  {
   "cell_type": "markdown",
   "metadata": {},
   "source": [
    "<br>"
   ]
  },
  {
   "cell_type": "markdown",
   "metadata": {},
   "source": [
    "### 출력 파서"
   ]
  },
  {
   "cell_type": "code",
   "execution_count": 6,
   "metadata": {},
   "outputs": [
    {
     "name": "stdout",
     "output_type": "stream",
     "text": [
      "- 영어 회화:  \n",
      "  **Waiter:** Good evening! Welcome to our restaurant. How many people are in your party?  \n",
      "  **You:** Good evening! It's just me.  \n",
      "  **Waiter:** Great! Here’s the menu. Can I get you something to drink while you look?  \n",
      "  **You:** Yes, I’d like a glass of water, please.  \n",
      "  **Waiter:** Sure! Are you ready to order, or do you need a few more minutes?  \n",
      "  **You:** I think I’m ready. I’d like the grilled chicken salad, please.  \n",
      "  **Waiter:** Excellent choice! Would you like any dressing with that?  \n",
      "  **You:** Yes, please. I’ll have the balsamic vinaigrette.  \n",
      "  **Waiter:** Perfect! I’ll get that for you right away.  \n",
      "\n",
      "- 한글 해석:  \n",
      "  **웨이터:** 좋은 저녁입니다! 저희 식당에 오신 것을 환영합니다. 몇 분이신가요?  \n",
      "  **당신:** 좋은 저녁입니다! 저 혼자입니다.  \n",
      "  **웨이터:** 좋습니다! 여기 메뉴입니다. 보시는 동안 음료수는 필요하신가요?  \n",
      "  **당신:** 네, 물 한 잔 주세요.  \n",
      "  **웨이터:** 알겠습니다! 주문할 준비가 되셨나요, 아니면 좀 더 시간이 필요하신가요?  \n",
      "  **당신:** 이제 준비가 된 것 같아요. 그릴에 구운 치킨 샐러드로 주세요.  \n",
      "  **웨이터:** 훌륭한 선택입니다! 드레싱은 어떤 걸 원하시나요?  \n",
      "  **당신:** 네, 발사믹 비네그레트를 주세요.  \n",
      "  **웨이터:** 완벽합니다! 바로 가져다 드리겠습니다.\n"
     ]
    }
   ],
   "source": [
    "from dotenv import load_dotenv\n",
    "import os\n",
    "\n",
    "load_dotenv(verbose=True)\n",
    "key = os.getenv('OPENAI_API_KEY')\n",
    "\n",
    "from langchain_openai import ChatOpenAI\n",
    "from langchain_core.prompts import PromptTemplate\n",
    "from langchain_core.output_parsers import StrOutputParser\n",
    "\n",
    "llm = ChatOpenAI(\n",
    "    api_key=key, \n",
    "    model_name='gpt-4o-mini',\n",
    "    temperature=0.1,\n",
    "    max_tokens=2048,\n",
    ")\n",
    "\n",
    "template = \"\"\"\n",
    "당신은 영어를 가르치는 10년차 영어 선생님입니다. 상황에 맞는 영어 회화를 작성해 주세요.\n",
    "양식은 [FORMAT]을 참고하여 작성해 주세요. \n",
    "\n",
    "#상황:\n",
    "{question}\n",
    "\n",
    "#FORMAT:\n",
    "- 영어 회화:\n",
    "- 한글 해석:\n",
    "\"\"\"\n",
    "\n",
    "# 프롬프트 템플릿을 이용하여 프롬프트를 생성합니다. \n",
    "prompt = PromptTemplate.from_template(template)\n",
    "\n",
    "# 문자열 출력 파서를 초기화합니다.\n",
    "output_parser = StrOutputParser()\n",
    "\n",
    "# 체인을 구성합니다.\n",
    "chain = prompt | llm | output_parser\n",
    "\n",
    "answer = chain.invoke({'question': '저는 식당에 가서 음식을 주문하고 싶어요'})\n",
    "print(answer)"
   ]
  }
 ],
 "metadata": {
  "kernelspec": {
   "display_name": "venv",
   "language": "python",
   "name": "python3"
  },
  "language_info": {
   "codemirror_mode": {
    "name": "ipython",
    "version": 3
   },
   "file_extension": ".py",
   "mimetype": "text/x-python",
   "name": "python",
   "nbconvert_exporter": "python",
   "pygments_lexer": "ipython3",
   "version": "3.11.9"
  }
 },
 "nbformat": 4,
 "nbformat_minor": 2
}
