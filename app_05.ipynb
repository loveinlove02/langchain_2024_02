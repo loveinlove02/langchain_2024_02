{
 "cells": [
  {
   "cell_type": "code",
   "execution_count": 1,
   "metadata": {},
   "outputs": [],
   "source": [
    "from dotenv import load_dotenv\n",
    "import os\n",
    "\n",
    "load_dotenv(verbose=True)\n",
    "key = os.getenv('OPENAI_API_KEY')"
   ]
  },
  {
   "cell_type": "code",
   "execution_count": 2,
   "metadata": {},
   "outputs": [
    {
     "name": "stdout",
     "output_type": "stream",
     "text": [
      "LangSmith 추적을 시작합니다.\n",
      "[프로젝트명]\n",
      "app_03\n"
     ]
    }
   ],
   "source": [
    "from langchain_teddynote import logging\n",
    "\n",
    "logging.langsmith('app_03')\n",
    "# logging.langsmith('app_03', set_enable=False)"
   ]
  },
  {
   "cell_type": "markdown",
   "metadata": {},
   "source": [
    "<br>"
   ]
  },
  {
   "cell_type": "markdown",
   "metadata": {},
   "source": [
    "# <b>CHAPTER 04 LCEL 인터페이스</b>"
   ]
  },
  {
   "cell_type": "markdown",
   "metadata": {},
   "source": [
    "<br>"
   ]
  },
  {
   "cell_type": "markdown",
   "metadata": {},
   "source": [
    "# <b>1. LCEL 인터페이스</b>"
   ]
  },
  {
   "cell_type": "markdown",
   "metadata": {},
   "source": [
    "<br>"
   ]
  },
  {
   "cell_type": "markdown",
   "metadata": {},
   "source": [
    "### LCEL 문법은 완성된 체인을 만드는 것이라고 할 수 있습니다.\n",
    "<br>\n",
    "\n",
    "#### Langchain에서는 사용자 정의 체인을 가능한 한 쉽게 만들 수 있도록, \"Runnable\" 프로토콜을 구현했습니다.\n",
    "#### chain을 구성할 때 llm, output parser를 묶어서 구성하는데 이런 llm이나 output parser이 Runnable입니다.\n",
    "#### 사용자 정의 체인은 이렇게 묶어서 만들어진 chain입니다.\n",
    "\n",
    "<br>\n",
    "\n",
    "#### chain을 묶을 때 구성되는 llm, output parser와 같은 각각의 모듈은 모두 Runnable 프로토콜을 가지고 있습니다. \n",
    "#### “실행 가능한 객체다.”라고 해서 Runnable이라는 표현을 사용합니다.\n",
    "\n",
    "<br>\n",
    "\n",
    "#### Runnable은 prompt가 될 수도 있고, llm 객체가 될 수도 있고, output parer가 될 수도 있습니다.\n",
    "#### 이렇게 Runnable(llm, output parser.. 등)들을 묶어서 chain을 구성합니다.\n",
    "#### 묶어서 만들어진 chain도 Runnable(실행 가능한 객체)입니다. \n",
    "#### invoke()를 호출할 수 있으면 모두 Runnable입니다.\n",
    "\n",
    "<br>\n",
    "\n",
    "#### 위와 같이 묶어놓은 chain1, chain2이 있다면 chain1도 Runnable이고 chain2도 Runnable입니다.\n",
    "#### 두 개의 chain을 병렬적으로 실행 가능하게 만들어 주는 것이 RunnableParallel입니다.\n",
    "\n",
    "<br>\n",
    "\n",
    "#### Runnable 프로토콜은 대부분의 컴포넌트에 구현되어 있습니다.\n",
    "\n",
    "<br>\n",
    "\n",
    "#### 이는 표준 인터페이스로, 사용자 정의 체인을 정의하고 표준 방식으로 호출하는 것을 쉽게 만듭니다. \n",
    "#### 표준 인터페이스에는 다음이 포함됩니다.\n",
    "\n",
    "#### - stream: 응답의 청크를 스트리밍합니다.\n",
    "#### - invoke: 입력에 대해 체인을 호출합니다.\n",
    "#### - batch: 입력 목록에 대해 체인을 호출합니다.\n",
    "\n",
    "<br><br>\n",
    "\n",
    "#### 비동기 메소드도 있습니다.\n",
    "\n",
    "#### - astream: 비동기적으로 응답의 청크를 스트리밍합니다.\n",
    "#### - ainvoke: 비동기적으로 입력에 대해 체인을 호출합니다.\n",
    "#### - abatch: 비동기적으로 입력 목록에 대해 체인을 호출합니다.\n",
    "#### - astream_log: 최종 응답뿐만 아니라 발생하는 중간 단계를 스트리밍합니다."
   ]
  }
 ],
 "metadata": {
  "kernelspec": {
   "display_name": "venv",
   "language": "python",
   "name": "python3"
  },
  "language_info": {
   "codemirror_mode": {
    "name": "ipython",
    "version": 3
   },
   "file_extension": ".py",
   "mimetype": "text/x-python",
   "name": "python",
   "nbconvert_exporter": "python",
   "pygments_lexer": "ipython3",
   "version": "3.11.9"
  }
 },
 "nbformat": 4,
 "nbformat_minor": 2
}
