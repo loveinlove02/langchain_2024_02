{
 "cells": [
  {
   "cell_type": "code",
   "execution_count": 1,
   "metadata": {},
   "outputs": [],
   "source": [
    "from dotenv import load_dotenv\n",
    "import os\n",
    "\n",
    "load_dotenv(verbose=True)\n",
    "key = os.getenv('OPENAI_API_KEY')"
   ]
  },
  {
   "cell_type": "code",
   "execution_count": 2,
   "metadata": {},
   "outputs": [
    {
     "name": "stdout",
     "output_type": "stream",
     "text": [
      "LangSmith 추적을 시작합니다.\n",
      "[프로젝트명]\n",
      "app_03\n"
     ]
    }
   ],
   "source": [
    "from langchain_teddynote import logging\n",
    "\n",
    "logging.langsmith('app_03')\n",
    "# logging.langsmith('app_03', set_enable=False)"
   ]
  },
  {
   "cell_type": "markdown",
   "metadata": {},
   "source": [
    "<br>"
   ]
  },
  {
   "cell_type": "markdown",
   "metadata": {},
   "source": [
    "# <b>CHAPTER 04 LCEL 인터페이스</b>"
   ]
  },
  {
   "cell_type": "markdown",
   "metadata": {},
   "source": [
    "<br>"
   ]
  },
  {
   "cell_type": "markdown",
   "metadata": {},
   "source": [
    "# <b>1. LCEL 인터페이스</b>"
   ]
  },
  {
   "cell_type": "markdown",
   "metadata": {},
   "source": [
    "<br>"
   ]
  },
  {
   "cell_type": "markdown",
   "metadata": {},
   "source": [
    "### LCEL 문법은 완성된 체인을 만드는 것이라고 할 수 있습니다.\n",
    "<br>\n",
    "\n",
    "#### Langchain에서는 사용자 정의 체인을 가능한 한 쉽게 만들 수 있도록, \"Runnable\" 프로토콜을 구현했습니다.\n",
    "#### chain을 구성할 때 llm, output parser를 묶어서 구성하는데 이런 llm이나 output parser이 Runnable입니다.\n",
    "#### 사용자 정의 체인은 이렇게 묶어서 만들어진 chain입니다.\n",
    "\n",
    "<br>\n",
    "\n",
    "#### chain을 묶을 때 구성되는 llm, output parser와 같은 각각의 모듈은 모두 Runnable 프로토콜을 가지고 있습니다. \n",
    "#### “실행 가능한 객체다.”라고 해서 Runnable이라는 표현을 사용합니다.\n",
    "\n",
    "<br>\n",
    "\n",
    "#### Runnable은 prompt가 될 수도 있고, llm 객체가 될 수도 있고, output parer가 될 수도 있습니다.\n",
    "#### 이렇게 Runnable(llm, output parser.. 등)들을 묶어서 chain을 구성합니다.\n",
    "#### 묶어서 만들어진 chain도 Runnable(실행 가능한 객체)입니다. \n",
    "#### invoke()를 호출할 수 있으면 모두 Runnable입니다.\n",
    "\n",
    "<br>\n",
    "\n",
    "#### 위와 같이 묶어놓은 chain1, chain2이 있다면 chain1도 Runnable이고 chain2도 Runnable입니다.\n",
    "#### 두 개의 chain을 병렬적으로 실행 가능하게 만들어 주는 것이 RunnableParallel입니다.\n",
    "\n",
    "<br>\n",
    "\n",
    "#### Runnable 프로토콜은 대부분의 컴포넌트에 구현되어 있습니다.\n",
    "\n",
    "<br>\n",
    "\n",
    "#### 이는 표준 인터페이스로, 사용자 정의 체인을 정의하고 표준 방식으로 호출하는 것을 쉽게 만듭니다. \n",
    "#### 표준 인터페이스에는 다음이 포함됩니다.\n",
    "\n",
    "#### - stream: 응답의 청크를 스트리밍합니다.\n",
    "#### - invoke: 입력에 대해 체인을 호출합니다.\n",
    "#### - batch: 입력 목록에 대해 체인을 호출합니다.\n",
    "\n",
    "<br><br>\n",
    "\n",
    "#### 비동기 메소드도 있습니다.\n",
    "\n",
    "#### - astream: 비동기적으로 응답의 청크를 스트리밍합니다.\n",
    "#### - ainvoke: 비동기적으로 입력에 대해 체인을 호출합니다.\n",
    "#### - abatch: 비동기적으로 입력 목록에 대해 체인을 호출합니다.\n",
    "#### - astream_log: 최종 응답뿐만 아니라 발생하는 중간 단계를 스트리밍합니다."
   ]
  },
  {
   "cell_type": "markdown",
   "metadata": {},
   "source": [
    "<br>"
   ]
  },
  {
   "cell_type": "markdown",
   "metadata": {},
   "source": [
    "# <b>2. stream: 실시간 출력<b>"
   ]
  },
  {
   "cell_type": "markdown",
   "metadata": {},
   "source": [
    "<br>"
   ]
  },
  {
   "cell_type": "markdown",
   "metadata": {},
   "source": [
    "### stream"
   ]
  },
  {
   "cell_type": "code",
   "execution_count": 3,
   "metadata": {},
   "outputs": [
    {
     "name": "stdout",
     "output_type": "stream",
     "text": [
      "갤럭시폰은 삼성전자가 제조한 스마트폰 시리즈로, 다양한 모델과 기능을 제공합니다. 이 시리즈는 고급스러운 디자인과 뛰어난 카메라 성능, 그리고 강력한 성능을 자랑합니다. 또한, 안드로이드 운영체제를 기반으로 하여 사용자에게 다양한 앱과 서비스를 이용할 수 있는 환경을 제공합니다."
     ]
    }
   ],
   "source": [
    "from dotenv import load_dotenv\n",
    "import os\n",
    "\n",
    "load_dotenv(verbose=True)\n",
    "key = os.getenv('OPENAI_API_KEY')\n",
    "\n",
    "from langchain_openai import ChatOpenAI\n",
    "from langchain_core.prompts import PromptTemplate\n",
    "from langchain_core.output_parsers import StrOutputParser\n",
    "\n",
    "llm = ChatOpenAI(\n",
    "    api_key=key, \n",
    "    model_name='gpt-4o-mini',\n",
    "    temperature=0.1,\n",
    "    max_tokens=2048,\n",
    ")\n",
    "\n",
    "prompt = PromptTemplate.from_template(\"{pruduct}에 대해서 3문장으로 설명해줘.\")\n",
    "chain = prompt | llm | StrOutputParser()\n",
    "answer = chain.stream({\"pruduct\": \"겔럭시폰\"})\n",
    "\n",
    "# chain.stream 메소드를 사용하여 '겔럭시폰' product에 대한 스트림을 생성하고 반복합니다.\n",
    "for token in answer:\n",
    "    # 스트림 에서 받은 데이터의 내용을 출력합니다. \n",
    "    # 줄 바꿈 없이 이어서 출력하고, 버퍼를 즉시 비웁니다.\n",
    "    print(token, end=\"\", flush=True)"
   ]
  },
  {
   "cell_type": "markdown",
   "metadata": {},
   "source": [
    "<br>"
   ]
  },
  {
   "cell_type": "markdown",
   "metadata": {},
   "source": [
    "# <b>3. invoke: 호출</b>"
   ]
  },
  {
   "cell_type": "markdown",
   "metadata": {},
   "source": [
    "<br>"
   ]
  },
  {
   "cell_type": "markdown",
   "metadata": {},
   "source": [
    "### invoke"
   ]
  },
  {
   "cell_type": "code",
   "execution_count": 4,
   "metadata": {},
   "outputs": [
    {
     "name": "stdout",
     "output_type": "stream",
     "text": [
      "ChatGPT는 OpenAI에서 개발한 대화형 인공지능 모델로, 자연어 처리 기술을 기반으로 합니다. 사용자의 질문이나 요청에 대해 이해하고 적절한 답변을 생성하여 대화할 수 있는 능력을 가지고 있습니다. 다양한 주제에 대해 정보를 제공하고, 창의적인 글쓰기, 문제 해결 등 여러 용도로 활용될 수 있습니다.\n"
     ]
    }
   ],
   "source": [
    "from dotenv import load_dotenv\n",
    "import os\n",
    "\n",
    "load_dotenv(verbose=True)\n",
    "key = os.getenv('OPENAI_API_KEY')\n",
    "\n",
    "from langchain_openai import ChatOpenAI\n",
    "from langchain_core.prompts import PromptTemplate\n",
    "from langchain_core.output_parsers import StrOutputParser\n",
    "\n",
    "llm = ChatOpenAI(\n",
    "    api_key=key, \n",
    "    model_name='gpt-4o-mini', \n",
    "    temperature=0.1,\n",
    "    max_tokens=2048,\n",
    ")\n",
    "\n",
    "prompt = PromptTemplate.from_template(\"{pruduct}에 대해서 3문장으로 설명해줘.\")\n",
    "chain = prompt | llm | StrOutputParser()\n",
    "answer = chain.invoke({\"pruduct\": \"ChatGPT\"})\n",
    "\n",
    "print(answer)"
   ]
  },
  {
   "cell_type": "markdown",
   "metadata": {},
   "source": [
    "<br>"
   ]
  },
  {
   "cell_type": "markdown",
   "metadata": {},
   "source": [
    "# <b>4. batch: 배치(단위 실행)</b>"
   ]
  },
  {
   "cell_type": "markdown",
   "metadata": {},
   "source": [
    "<br>"
   ]
  },
  {
   "cell_type": "markdown",
   "metadata": {},
   "source": [
    "### 함수 chain.batch는 여러 개의 딕셔너리를 포함하는 리스트를 인자로 받아, \n",
    "### 각 딕셔너리에 있는 product 키의 값을 사용하여 일괄 처리를 수행합니다. "
   ]
  },
  {
   "cell_type": "markdown",
   "metadata": {},
   "source": [
    "<br>"
   ]
  },
  {
   "cell_type": "markdown",
   "metadata": {},
   "source": [
    "### batch"
   ]
  },
  {
   "cell_type": "code",
   "execution_count": 5,
   "metadata": {},
   "outputs": [
    {
     "name": "stdout",
     "output_type": "stream",
     "text": [
      "['ChatGPT는 OpenAI에서 개발한 대화형 인공지능 모델로, 자연어 처리 기술을 기반으로 합니다. 사용자의 질문이나 요청에 대해 인간처럼 자연스럽고 유창한 대화를 생성할 수 있습니다. 다양한 주제에 대한 정보 제공, 문제 해결, 창의적인 글쓰기 등 여러 용도로 활용될 수 있습니다.', '인스타그램은 사용자가 사진과 동영상을 공유할 수 있는 소셜 미디어 플랫폼입니다. 다양한 필터와 편집 도구를 제공하여 사용자들이 창의적으로 콘텐츠를 꾸밀 수 있도록 돕습니다. 또한, 친구와의 소통, 유명인 및 브랜드의 팔로우를 통해 다양한 사람들과 연결될 수 있는 공간입니다.']\n",
      "ChatGPT는 OpenAI에서 개발한 대화형 인공지능 모델로, 자연어 처리 기술을 기반으로 합니다. 사용자의 질문이나 요청에 대해 인간처럼 자연스럽고 유창한 대화를 생성할 수 있습니다. 다양한 주제에 대한 정보 제공, 문제 해결, 창의적인 글쓰기 등 여러 용도로 활용될 수 있습니다.\n"
     ]
    }
   ],
   "source": [
    "from dotenv import load_dotenv\n",
    "import os\n",
    "\n",
    "load_dotenv(verbose=True)\n",
    "key = os.getenv('OPENAI_API_KEY')\n",
    "\n",
    "from langchain_openai import ChatOpenAI\n",
    "from langchain_core.prompts import PromptTemplate\n",
    "from langchain_core.output_parsers import StrOutputParser\n",
    "\n",
    "llm = ChatOpenAI(\n",
    "    api_key=key, \n",
    "    model_name='gpt-4o-mini',\n",
    "    temperature=0.1,\n",
    "    max_tokens=2048,\n",
    ")\n",
    "\n",
    "prompt = PromptTemplate.from_template(\"{pruduct}에 대해서 3문장으로 설명해줘.\")\n",
    "chain = prompt | llm | StrOutputParser()\n",
    "\n",
    "# 주어진 product 리스트를 batch 처리하는 함수 호출. 묶어서 그룹 단위로 실행된다.\n",
    "answer = chain.batch(\n",
    "    [\n",
    "        {\"pruduct\": \"ChatGPT\"}, \n",
    "     \t{\"pruduct\": \"Instagram\"}\n",
    "    ]\n",
    ")\n",
    "\n",
    "print(answer)\n",
    "print(answer[0])"
   ]
  },
  {
   "cell_type": "markdown",
   "metadata": {},
   "source": [
    "<br>"
   ]
  },
  {
   "cell_type": "markdown",
   "metadata": {},
   "source": [
    "### max_concurrency 매개변수를 사용하여 동시 요청 수를 설정할 수 있습니다\n",
    "### config 딕셔너리는 max_concurrency 키를 통해 동시에 처리할 수 있는 최대 작업 수를 설정합니다. \n",
    "### 여기서는 최대 3개의 작업을 동시에 처리하도록 설정되어 있습니다."
   ]
  },
  {
   "cell_type": "markdown",
   "metadata": {},
   "source": [
    "<br>"
   ]
  },
  {
   "cell_type": "markdown",
   "metadata": {},
   "source": [
    "### batch"
   ]
  },
  {
   "cell_type": "code",
   "execution_count": 6,
   "metadata": {},
   "outputs": [
    {
     "name": "stdout",
     "output_type": "stream",
     "text": [
      "['ChatGPT는 OpenAI에서 개발한 인공지능 언어 모델로, 자연어 처리 기술을 기반으로 합니다. 사용자의 질문이나 요청에 대해 대화 형식으로 응답하며, 다양한 주제에 대한 정보를 제공할 수 있습니다. 이 모델은 대규모 데이터셋을 학습하여 인간과 유사한 방식으로 언어를 이해하고 생성하는 능력을 갖추고 있습니다.', '인스타그램은 사용자가 사진과 동영상을 공유할 수 있는 소셜 미디어 플랫폼입니다. 다양한 필터와 편집 도구를 제공하여 사용자들이 창의적으로 콘텐츠를 꾸밀 수 있도록 돕습니다. 또한, 친구와의 소통, 유명인 및 브랜드와의 연결을 통해 전 세계적으로 인기를 끌고 있습니다.', '멀티모달은 다양한 형태의 데이터를 동시에 처리하고 분석하는 접근 방식을 의미합니다. 예를 들어, 텍스트, 이미지, 오디오 등 서로 다른 유형의 정보를 결합하여 보다 풍부하고 정확한 인사이트를 도출할 수 있습니다. 이러한 기술은 인공지능, 머신러닝, 자연어 처리 등 여러 분야에서 활용되어, 사용자 경험을 향상시키고 복잡한 문제를 해결하는 데 기여합니다.', '프로그래밍은 컴퓨터가 수행할 작업을 정의하는 과정으로, 특정 언어를 사용하여 코드로 작성됩니다. 이 과정에서는 알고리즘을 설계하고, 문제를 해결하기 위한 논리를 구현하게 됩니다. 결과적으로 프로그래밍은 소프트웨어 개발, 웹 애플리케이션, 게임 등 다양한 분야에서 활용됩니다.', '머신러닝은 컴퓨터가 데이터에서 패턴을 학습하고 예측을 수행할 수 있도록 하는 인공지능의 한 분야입니다. 이 과정에서는 알고리즘을 사용하여 입력 데이터로부터 모델을 생성하고, 이를 통해 새로운 데이터에 대한 결정을 내립니다. 머신러닝은 이미지 인식, 자연어 처리, 추천 시스템 등 다양한 응용 분야에서 활용되고 있습니다.']\n"
     ]
    }
   ],
   "source": [
    "from dotenv import load_dotenv\n",
    "import os\n",
    "\n",
    "load_dotenv(verbose=True)\n",
    "key = os.getenv('OPENAI_API_KEY')\n",
    "\n",
    "from langchain_openai import ChatOpenAI\n",
    "from langchain_core.prompts import PromptTemplate\n",
    "from langchain_core.output_parsers import StrOutputParser\n",
    "\n",
    "llm = ChatOpenAI(\n",
    "    api_key=key, \n",
    "    model_name='gpt-4o-mini',\n",
    "    temperature=0.1,\n",
    "    max_tokens=2048,\n",
    ")\n",
    "\n",
    "prompt = PromptTemplate.from_template(\"{pruduct}에 대해서 3문장으로 설명해줘.\")\n",
    "chain = prompt | llm | StrOutputParser()\n",
    "\n",
    "answer = chain.batch(\n",
    "    [\n",
    "        {\"pruduct\": \"ChatGPT\"},\n",
    "        {\"pruduct\": \"Instagram\"},\n",
    "        {\"pruduct\": \"멀티모달\"},\n",
    "        {\"pruduct\": \"프로그래밍\"},\n",
    "        {\"pruduct\": \"머신러닝\"},\n",
    "    ],\n",
    "    config={\"max_concurrency\": 3},\n",
    ")\n",
    "\n",
    "print(answer)"
   ]
  },
  {
   "cell_type": "markdown",
   "metadata": {},
   "source": [
    "<br>"
   ]
  },
  {
   "cell_type": "markdown",
   "metadata": {},
   "source": [
    "# <b>5. async stream: 비동기 스트림</b>"
   ]
  },
  {
   "cell_type": "markdown",
   "metadata": {},
   "source": [
    "<br>"
   ]
  },
  {
   "cell_type": "markdown",
   "metadata": {},
   "source": [
    "# <b>5.1 비동기 메소드?</b>"
   ]
  },
  {
   "cell_type": "markdown",
   "metadata": {},
   "source": [
    "<br>"
   ]
  },
  {
   "cell_type": "markdown",
   "metadata": {},
   "source": [
    "### 비동기 메소드는 프로그램이 특정 작업을 수행하고 있을 때, \n",
    "### 그 작업이 완료될 때까지 프로그램 전체를 멈추지 않고 다른 작업을 계속 수행할 수 있게 해주는 방법입니다. \n",
    "### 즉, 작업의 완료를 기다리는 동안 다른 코드의 실행이 가능합니다."
   ]
  },
  {
   "cell_type": "markdown",
   "metadata": {},
   "source": [
    "<br>"
   ]
  },
  {
   "cell_type": "markdown",
   "metadata": {},
   "source": [
    "# <b>5.2 일상의 예: 커피숍</b>"
   ]
  },
  {
   "cell_type": "markdown",
   "metadata": {},
   "source": [
    "<br>"
   ]
  },
  {
   "cell_type": "markdown",
   "metadata": {},
   "source": [
    "### 비동기 메소드를 커피숍에서의 상황으로 비유해보겠습니다. 카페에 가서 커피를 주문했다고 상상해 봅시다.\n",
    "\n",
    "<br>\n",
    "\n",
    "### - 동기 방식(Synchronous): <br>\n",
    "#### &nbsp;&nbsp;&nbsp;&nbsp;커피를 주문한 후, 커피가 나올 때까지 그 자리에서 기다립니다. \n",
    "#### &nbsp;&nbsp;&nbsp;&nbsp;기다리는 동안 다른 어떠한 일을 하지 못하고 오로지 커피만을 기다리는 상태입니다.\n",
    "\n",
    "### - 비동기 방식(Asynchronous): <br> \n",
    "#### &nbsp;&nbsp;&nbsp;&nbsp; 커피를 주문한 후, 기다리는 동안에 다른 일을 하는 거예요. (예: 책 읽기, 친구와 대화하기)을 합니다. \n",
    "#### &nbsp;&nbsp;&nbsp;&nbsp; 커피가 준비되면 번호가 호출되고, 이때 커피를 받으러 갑니다."
   ]
  },
  {
   "cell_type": "markdown",
   "metadata": {},
   "source": [
    "<br>"
   ]
  },
  {
   "cell_type": "markdown",
   "metadata": {},
   "source": [
    "# <b>5.3 프로그래밍에서의 예</b>"
   ]
  },
  {
   "cell_type": "markdown",
   "metadata": {},
   "source": [
    "<br>"
   ]
  },
  {
   "cell_type": "markdown",
   "metadata": {},
   "source": [
    "### 웹 서버를 개발할 때 비동기 메소드는 매우 유용하게 사용됩니다. \n",
    "### 예를 들어, 사용자가 데이터베이스에서 정보를 요청하는 상황을 생각해 볼 수 있습니다.\n",
    "\n",
    "<br>\n",
    "\n",
    "### - 동기 방식: \n",
    "\n",
    "##### &nbsp;&nbsp;&nbsp;&nbsp; 서버는 데이터베이스의 응답을 기다리면서 다른 요청을 처리하지 못하고 멈춰 있습니다. \n",
    "##### &nbsp;&nbsp;&nbsp;&nbsp; 이는 효율성이 떨어질 수 있습니다.\n",
    "\n",
    "### - 비동기 방식:\n",
    "\n",
    "##### &nbsp;&nbsp;&nbsp;&nbsp; 서버는 데이터를 요청하고, 그 응답을 기다리는 동안 다른 사용자의 요청을 계속 처리할 수 있습니다. \n",
    "##### &nbsp;&nbsp;&nbsp;&nbsp; 데이터베이스에서 응답이 오면, 그때 해당 작업을 완료합니다."
   ]
  },
  {
   "cell_type": "markdown",
   "metadata": {},
   "source": [
    "<br>"
   ]
  },
  {
   "cell_type": "markdown",
   "metadata": {},
   "source": [
    "# <b>6. async stream: 비동기 스트림</b>"
   ]
  },
  {
   "cell_type": "markdown",
   "metadata": {},
   "source": [
    "<br>"
   ]
  },
  {
   "cell_type": "markdown",
   "metadata": {},
   "source": [
    "### chain.astream() 함수는 비동기 스트림을 생성하며, 주어진 product에 대한 메시지를 비동기적으로 처리합니다.\n",
    "\n",
    "<br>\n",
    "\n",
    "### 비동기 for 루프(async for)를 사용하여 스트림에서 메시지를 순차 적으로 받아오고, \n",
    "### print() 함수를 통해 메시지의 내용(s.content)을 즉시 출력합니다. \n",
    "\n",
    "### end=\"\"는 출력 후 줄 바꿈을 하지 않도록 설정하며, flush=True는 출력 버퍼를 강제로 비워 즉시 출력되도록 합니다."
   ]
  },
  {
   "cell_type": "markdown",
   "metadata": {},
   "source": [
    "<br>"
   ]
  }
 ],
 "metadata": {
  "kernelspec": {
   "display_name": "venv",
   "language": "python",
   "name": "python3"
  },
  "language_info": {
   "codemirror_mode": {
    "name": "ipython",
    "version": 3
   },
   "file_extension": ".py",
   "mimetype": "text/x-python",
   "name": "python",
   "nbconvert_exporter": "python",
   "pygments_lexer": "ipython3",
   "version": "3.11.9"
  }
 },
 "nbformat": 4,
 "nbformat_minor": 2
}
