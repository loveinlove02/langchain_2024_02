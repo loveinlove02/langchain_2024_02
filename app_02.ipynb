{
 "cells": [
  {
   "cell_type": "code",
   "execution_count": 1,
   "metadata": {},
   "outputs": [],
   "source": [
    "from dotenv import load_dotenv\n",
    "import os\n",
    "\n",
    "load_dotenv(verbose=True)\n",
    "key = os.getenv('OPENAI_API_KEY')"
   ]
  },
  {
   "cell_type": "code",
   "execution_count": 2,
   "metadata": {},
   "outputs": [
    {
     "name": "stdout",
     "output_type": "stream",
     "text": [
      "LangSmith 추적을 시작합니다.\n",
      "[프로젝트명]\n",
      "app_03\n"
     ]
    }
   ],
   "source": [
    "from langchain_teddynote import logging\n",
    "\n",
    "logging.langsmith('app_03')\n",
    "# logging.langsmith('app_03', set_enable=False)"
   ]
  },
  {
   "cell_type": "markdown",
   "metadata": {},
   "source": [
    "<br><br>"
   ]
  },
  {
   "cell_type": "markdown",
   "metadata": {},
   "source": [
    "# <b>CHAPTER 02. OpenAI API</b>"
   ]
  },
  {
   "cell_type": "markdown",
   "metadata": {},
   "source": [
    "<br>"
   ]
  },
  {
   "cell_type": "markdown",
   "metadata": {},
   "source": [
    "# <b>1. ChatOpenAI</b>"
   ]
  },
  {
   "cell_type": "markdown",
   "metadata": {},
   "source": [
    "<br>"
   ]
  },
  {
   "cell_type": "markdown",
   "metadata": {},
   "source": [
    "OpenAI 의 채팅 전용 Large Language Model(llm)입니다.<br>\n",
    "\n",
    "객체를 생성할 때 다음을 옵션값을 지정할 수 있습니다.<br> \n",
    "\n",
    "- model_name : 적용 가능한 모델 리스트. (gpt-3.5-turbo, gpt-4-turbo, gpt-4o)\n",
    "- temperature : <br><br>\n",
    "  사용할 샘플링 온도는 0과 2 사이에서 선택합니다.<br>\n",
    "  0.8과 같은 높은 값은 출력을 더 무작위 하게 만들고, <br>\n",
    "  0.2와 같은 낮은 값은 출력을 더 집중되고 결정론적으로 만듭니다.\n",
    "\n",
    "- max_tokens : 채팅 완성에서 생성할 토큰의 최대 개수입니다. "
   ]
  },
  {
   "cell_type": "markdown",
   "metadata": {},
   "source": [
    "### ChatOpenAI"
   ]
  },
  {
   "cell_type": "code",
   "execution_count": 4,
   "metadata": {},
   "outputs": [
    {
     "name": "stdout",
     "output_type": "stream",
     "text": [
      "content='겔럭시 스마트폰은 삼성전자(Samsung Electronics)에서 개발한 제품입니다. 삼성전자는 다양한 전자제품을 제조하는 글로벌 기업으로, 겔럭시 시리즈는 스마트폰, 태블릿 등 다양한 모바일 기기를 포함하고 있습니다.' response_metadata={'token_usage': {'completion_tokens': 55, 'prompt_tokens': 23, 'total_tokens': 78}, 'model_name': 'gpt-4o-mini-2024-07-18', 'system_fingerprint': 'fp_48196bc67a', 'finish_reason': 'stop', 'logprobs': None} id='run-92e730f9-0258-43bc-b906-009b7a05862b-0' usage_metadata={'input_tokens': 23, 'output_tokens': 55, 'total_tokens': 78}\n",
      "겔럭시 스마트폰은 삼성전자(Samsung Electronics)에서 개발한 제품입니다. 삼성전자는 다양한 전자제품을 제조하는 글로벌 기업으로, 겔럭시 시리즈는 스마트폰, 태블릿 등 다양한 모바일 기기를 포함하고 있습니다.\n"
     ]
    }
   ],
   "source": [
    "from dotenv import load_dotenv\n",
    "import os\n",
    "\n",
    "load_dotenv(verbose=True)\n",
    "key = os.getenv('OPENAI_API_KEY')\n",
    "\n",
    "from langchain_openai import ChatOpenAI\n",
    "\n",
    "llm = ChatOpenAI(\n",
    "    api_key=key, \n",
    "    model_name='gpt-4o-mini',\t# 모델 : 사용할 모델을 지정합니다.\n",
    "    temperature=0.1,\t\t\t# 창의성 : (0.0 ~ 2.0) \n",
    "    max_tokens=300,\t\t\t\t# 최대 토큰 수\n",
    ")\n",
    "\n",
    "# 질문내용\n",
    "question = '겔럭시 스마트폰은 어느 회사에서 개발한 제품인가요?'\n",
    "\n",
    "# 요청\n",
    "answer = llm.invoke(question)\n",
    "print(answer)\n",
    "print(answer.content)"
   ]
  },
  {
   "cell_type": "markdown",
   "metadata": {},
   "source": [
    "<br>"
   ]
  },
  {
   "cell_type": "markdown",
   "metadata": {},
   "source": [
    "# <b>2. 스트리밍 출력<b>"
   ]
  },
  {
   "cell_type": "markdown",
   "metadata": {},
   "source": [
    "<br>"
   ]
  },
  {
   "cell_type": "markdown",
   "metadata": {},
   "source": [
    "### 스트리밍 옵션은 질의에 대한 답변을 실시간으로 받을 때 유용합니다."
   ]
  },
  {
   "cell_type": "markdown",
   "metadata": {},
   "source": [
    "### stream"
   ]
  },
  {
   "cell_type": "code",
   "execution_count": 6,
   "metadata": {},
   "outputs": [
    {
     "name": "stdout",
     "output_type": "stream",
     "text": [
      "스트리밍 답변의 결과를 받는 방법에 대해 설명해 드리겠습니다. 일반적으로 스트리밍 답변은 실시간으로 데이터를 전송하는 방식으로, 주로 API나 웹소켓을 통해 구현됩니다. 다음은 스트리밍 답변을 받을 때 고려해야 할 몇 가지 사항입니다:\n",
      "\n",
      "1. **API 선택**: 스트리밍 기능을 제공하는 API를 선택합니다. 예를 들어, OpenAI의 API는 스트리밍 응답을 지원합니다.\n",
      "\n",
      "2. **연결 설정**: API 문서에 따라 적절한 인증 및 연결 설정을 합니다. 보통 API 키가 필요합니다.\n",
      "\n",
      "3. **요청 형식**: 스트리밍 요청을 보낼 때 필요한 파라미터를 설정합니다. 예를 들어, 모델, 프롬프트, 최대 토큰 수 등을 지정할 수 있습니다.\n",
      "\n",
      "4. **응답 처리**: 스트리밍 응답은 일반적으로 데이터 조각으로 나뉘어 전송됩니다. 각 조각을 수신하고 처리하는 로직을 구현해야 합니다.\n",
      "\n",
      "5. **에러 처리**: 스트리밍 중 발생할 수 있는 에러를 처리하는 방법을 마련합니다. 연결 끊김, 타임아웃 등의 상황에 대비해야 합니다.\n",
      "\n",
      "6. **종료 조건**: 스트리밍을 언제 종료할지에 대한 조건을 설정합니다. 예를 들어, 특정 키워드"
     ]
    }
   ],
   "source": [
    "from dotenv import load_dotenv\n",
    "import os\n",
    "\n",
    "load_dotenv(verbose=True)\n",
    "key = os.getenv('OPENAI_API_KEY')\n",
    "\n",
    "from langchain_openai import ChatOpenAI\n",
    "\n",
    "llm = ChatOpenAI(\n",
    "    api_key=key, \n",
    "    model_name='gpt-4o-mini',\t# 모델 : 사용할 모델을 지정합니다.\n",
    "    temperature=0.1,\t\t\t# 창의성 : (0.0 ~ 2.0) \n",
    "    max_tokens=300,\t\t\t\t# 최대 토큰 수\n",
    ")\n",
    "\n",
    "# answer에 스트리밍 답변의 결과를 받습니다.\n",
    "answer = llm.stream('# answer에 스트리밍 답변의 결과를 받습니다.')\n",
    "answer2 = ''\n",
    "\n",
    "# 스트리밍 방식으로 각 토큰을 출력합니다. (실시간 출력)\n",
    "for token in answer:\n",
    "    print(token.content, end=\"\", flush=True)\n",
    "    answer2 += token.content"
   ]
  },
  {
   "cell_type": "markdown",
   "metadata": {},
   "source": [
    "<br>"
   ]
  },
  {
   "cell_type": "markdown",
   "metadata": {},
   "source": [
    "# <b>2. 스트리밍 출력<b>"
   ]
  },
  {
   "cell_type": "markdown",
   "metadata": {},
   "source": [
    "<br>"
   ]
  },
  {
   "cell_type": "markdown",
   "metadata": {},
   "source": [
    "### ChatOpenAI 스트리밍 출력 (langchain_teddynote 라이브러리)"
   ]
  },
  {
   "cell_type": "code",
   "execution_count": 7,
   "metadata": {},
   "outputs": [
    {
     "name": "stdout",
     "output_type": "stream",
     "text": [
      "삼성전자는 다양한 전자제품을 제조하고 있습니다. 그 중에서 대표적인 3가지는 다음과 같습니다:\n",
      "\n",
      "1. **갤럭시 스마트폰**: 삼성전자의 갤럭시 시리즈는 세계적으로 인기 있는 스마트폰 라인업으로, 최신 기술과 다양한 기능을 갖춘 모델들이 출시되고 있습니다.\n",
      "\n",
      "2. **삼성 QLED TV**: 삼성의 QLED TV는 고화질 디스플레이 기술을 적용하여 뛰어난 화질과 색감을 제공하는 텔레비전입니다. 다양한 크기와 모델이 있어 소비자 선택의 폭이 넓습니다.\n",
      "\n",
      "3. **삼성 냉장고**: 삼성전자는 다양한 기능과 디자인을 갖춘 냉장고를 제조하고 있습니다. 스마트 기능이 탑재된 모델도 있어, 사용자 편의성을 높이고 있습니다.\n",
      "\n",
      "이 외에도 삼성전자는 다양한 가전제품과 전자기기를 생산하고 있습니다."
     ]
    }
   ],
   "source": [
    "from dotenv import load_dotenv\n",
    "import os\n",
    "\n",
    "load_dotenv(verbose=True)\n",
    "key = os.getenv('OPENAI_API_KEY')\n",
    "\n",
    "from langchain_openai import ChatOpenAI\n",
    "from langchain_teddynote.messages import stream_response\n",
    "\n",
    "llm = ChatOpenAI(\n",
    "    api_key=key, \n",
    "    model_name='gpt-4o-mini',\t# 모델 : 사용할 모델을 지정합니다.\n",
    "    temperature=0.1,\t\t\t# 창의성 : (0.0 ~ 2.0) \n",
    "    max_tokens=2048,\t        # 최대 토큰 수\n",
    ")\n",
    "\n",
    "# 스트림 방식으로 질의\n",
    "# answer 에 스트리밍 답변의 결과를 받습니다.\n",
    "answer = llm.stream(\"삼성전자에서 만든 제품을 3가지 알려주세요.\")\n",
    "stream_response(answer)"
   ]
  }
 ],
 "metadata": {
  "kernelspec": {
   "display_name": "venv",
   "language": "python",
   "name": "python3"
  },
  "language_info": {
   "codemirror_mode": {
    "name": "ipython",
    "version": 3
   },
   "file_extension": ".py",
   "mimetype": "text/x-python",
   "name": "python",
   "nbconvert_exporter": "python",
   "pygments_lexer": "ipython3",
   "version": "3.11.9"
  }
 },
 "nbformat": 4,
 "nbformat_minor": 2
}
