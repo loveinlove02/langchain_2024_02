{
 "cells": [
  {
   "cell_type": "code",
   "execution_count": 1,
   "metadata": {},
   "outputs": [],
   "source": [
    "from dotenv import load_dotenv\n",
    "import os\n",
    "\n",
    "load_dotenv(verbose=True)\n",
    "key = os.getenv('OPENAI_API_KEY')"
   ]
  },
  {
   "cell_type": "code",
   "execution_count": 2,
   "metadata": {},
   "outputs": [
    {
     "name": "stdout",
     "output_type": "stream",
     "text": [
      "LangSmith 추적을 시작합니다.\n",
      "[프로젝트명]\n",
      "app_03\n"
     ]
    }
   ],
   "source": [
    "from langchain_teddynote import logging\n",
    "\n",
    "logging.langsmith('app_03')\n",
    "# logging.langsmith('app_03', set_enable=False)"
   ]
  },
  {
   "cell_type": "markdown",
   "metadata": {},
   "source": [
    "# CHAPTER 02. OpenAI API"
   ]
  },
  {
   "cell_type": "markdown",
   "metadata": {},
   "source": [
    "<br>"
   ]
  },
  {
   "cell_type": "markdown",
   "metadata": {},
   "source": [
    "# 1. ChatOpenAI"
   ]
  },
  {
   "cell_type": "markdown",
   "metadata": {},
   "source": [
    "OpenAI 의 채팅 전용 Large Language Model(llm)입니다.<br>\n",
    "\n",
    "객체를 생성할 때 다음을 옵션값을 지정할 수 있습니다.<br> \n",
    "\n",
    "- model_name : 적용 가능한 모델 리스트. (gpt-3.5-turbo, gpt-4-turbo, gpt-4o)\n",
    "- temperature : <br><br>\n",
    "  사용할 샘플링 온도는 0과 2 사이에서 선택합니다.<br>\n",
    "  0.8과 같은 높은 값은 출력을 더 무작위 하게 만들고, <br>\n",
    "  0.2와 같은 낮은 값은 출력을 더 집중되고 결정론적으로 만듭니다.\n",
    "\n",
    "- max_tokens : 채팅 완성에서 생성할 토큰의 최대 개수입니다. "
   ]
  },
  {
   "cell_type": "markdown",
   "metadata": {},
   "source": [
    "### ChatOpenAI"
   ]
  },
  {
   "cell_type": "code",
   "execution_count": 4,
   "metadata": {},
   "outputs": [
    {
     "name": "stdout",
     "output_type": "stream",
     "text": [
      "content='겔럭시 스마트폰은 삼성전자(Samsung Electronics)에서 개발한 제품입니다. 삼성전자는 다양한 전자제품을 제조하는 글로벌 기업으로, 겔럭시 시리즈는 스마트폰, 태블릿 등 다양한 모바일 기기를 포함하고 있습니다.' response_metadata={'token_usage': {'completion_tokens': 55, 'prompt_tokens': 23, 'total_tokens': 78}, 'model_name': 'gpt-4o-mini-2024-07-18', 'system_fingerprint': 'fp_48196bc67a', 'finish_reason': 'stop', 'logprobs': None} id='run-92e730f9-0258-43bc-b906-009b7a05862b-0' usage_metadata={'input_tokens': 23, 'output_tokens': 55, 'total_tokens': 78}\n",
      "겔럭시 스마트폰은 삼성전자(Samsung Electronics)에서 개발한 제품입니다. 삼성전자는 다양한 전자제품을 제조하는 글로벌 기업으로, 겔럭시 시리즈는 스마트폰, 태블릿 등 다양한 모바일 기기를 포함하고 있습니다.\n"
     ]
    }
   ],
   "source": [
    "from dotenv import load_dotenv\n",
    "import os\n",
    "\n",
    "load_dotenv(verbose=True)\n",
    "key = os.getenv('OPENAI_API_KEY')\n",
    "\n",
    "from langchain_openai import ChatOpenAI\n",
    "\n",
    "llm = ChatOpenAI(\n",
    "    api_key=key, \n",
    "    model_name='gpt-4o-mini',\t# 모델 : 사용할 모델을 지정합니다.\n",
    "    temperature=0.1,\t\t\t# 창의성 : (0.0 ~ 2.0) \n",
    "    max_tokens=300,\t\t\t\t# 최대 토큰 수\n",
    ")\n",
    "\n",
    "# 질문내용\n",
    "question = '겔럭시 스마트폰은 어느 회사에서 개발한 제품인가요?'\n",
    "\n",
    "# 요청\n",
    "answer = llm.invoke(question)\n",
    "print(answer)\n",
    "print(answer.content)"
   ]
  }
 ],
 "metadata": {
  "kernelspec": {
   "display_name": "venv",
   "language": "python",
   "name": "python3"
  },
  "language_info": {
   "codemirror_mode": {
    "name": "ipython",
    "version": 3
   },
   "file_extension": ".py",
   "mimetype": "text/x-python",
   "name": "python",
   "nbconvert_exporter": "python",
   "pygments_lexer": "ipython3",
   "version": "3.11.9"
  }
 },
 "nbformat": 4,
 "nbformat_minor": 2
}
